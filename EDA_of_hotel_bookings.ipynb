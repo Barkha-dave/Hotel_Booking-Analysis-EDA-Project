{
  "nbformat": 4,
  "nbformat_minor": 0,
  "metadata": {
    "colab": {
      "private_outputs": true,
      "provenance": [],
      "collapsed_sections": [
        "w6K7xa23Elo4",
        "mDgbUHAGgjLW",
        "7hBIi_osiCS2",
        "JlHwYmJAmNHm",
        "35m5QtbWiB9F",
        "nA9Y7ga8ng1Z",
        "dauF4eBmngu3",
        "Seke61FWphqN",
        "cXyj6MQuOf3K",
        "gIfDvo9L0UH2"
      ],
      "include_colab_link": true
    },
    "kernelspec": {
      "name": "python3",
      "display_name": "Python 3"
    },
    "language_info": {
      "name": "python"
    }
  },
  "cells": [
    {
      "cell_type": "markdown",
      "metadata": {
        "id": "view-in-github",
        "colab_type": "text"
      },
      "source": [
        "<a href=\"https://colab.research.google.com/github/Barkha-dave/Hotel_Booking-Analysis-EDA-Project/blob/main/EDA_of_hotel_bookings.ipynb\" target=\"_parent\"><img src=\"https://colab.research.google.com/assets/colab-badge.svg\" alt=\"Open In Colab\"/></a>"
      ]
    },
    {
      "cell_type": "markdown",
      "source": [
        "# **Project Name**    -\n",
        "\n"
      ],
      "metadata": {
        "id": "vncDsAP0Gaoa"
      }
    },
    {
      "cell_type": "markdown",
      "source": [
        "##### **Project Type** - EDA\n",
        "##### **Project Name** - Hotel Booking Analysis\n",
        "##### **Contribution** - Individual\n",
        "##### **Team Member 1 -** Barkha Dave"
      ],
      "metadata": {
        "id": "beRrZCGUAJYm"
      }
    },
    {
      "cell_type": "markdown",
      "source": [
        "# **Project Summary -**"
      ],
      "metadata": {
        "id": "FJNUwmbgGyua"
      }
    },
    {
      "cell_type": "markdown",
      "source": [
        "The dataset that is being made available focuses on reservations and cancellations for two different kinds of hotels: resort hotels and city hotels. The dataset contains travelers from different nations who made travel or travel-related reservations. The dataset is extensive and contains information on the length of client stays, the month in which the booking was made, the room type given, and whether the booking was made during the week or the weekend. The collection also includes information on the type of food the consumer ordered and if they made a deposit.\n",
        "\n",
        "The dataset's ability to track repeat consumers allows for the examination of customer loyalty and behavior over time, which is one of its distinctive features. The collection also contains details on the tour operators or travel agencies that took part in the reservations, enabling analysis of the connections between the hotel and its network of partners.\n",
        "\n",
        "To better understand customer behaviour and enhance hotel services and products, the dataset provides a wide range of factors that may be analysed to find trends and patterns. The information can be utilised to address a number of inquiries about hotel reservations, cancellations, and patron behaviour. For example, the information can be used to assess which travel agencies are most successful at attracting new clients or to discover the most well-liked dining or lodging categories."
      ],
      "metadata": {
        "id": "F6v_1wHtG2nS"
      }
    },
    {
      "cell_type": "markdown",
      "source": [
        "# **GitHub Link -**"
      ],
      "metadata": {
        "id": "w6K7xa23Elo4"
      }
    },
    {
      "cell_type": "markdown",
      "source": [
        "Provide your GitHub Link here."
      ],
      "metadata": {
        "id": "h1o69JH3Eqqn"
      }
    },
    {
      "cell_type": "markdown",
      "source": [
        "# **Problem Statement**\n"
      ],
      "metadata": {
        "id": "yQaldy8SH6Dl"
      }
    },
    {
      "cell_type": "markdown",
      "source": [
        "**Univariate analysis**\n",
        "\n",
        "1) Which agent makes the most bookings for the customers?\n",
        "\n",
        "2) Which room type are most demanded and whch room type generate high ADR?\n",
        "\n",
        "3) What is the percentage of bookings in each hotel?\n",
        "\n",
        "4) What is the preferred stay lenth in each hotel?\n",
        "\n",
        "5) Which hotel makes more revenue?\n",
        "\n",
        "6) Analysis based on the meal.\n",
        "\n",
        "7)Analysis of the requirement for car parking space.\n",
        "\n",
        "8)Which hotel has the highest number of repeat customers?\n",
        "\n",
        "**Bivariate Analysis**\n",
        "\n",
        "9) Which catagory of customers made the highest bookings.\n",
        "\n",
        "10) Which  significant distribution channel has the highest cancellation percentage.\n",
        "\n",
        "11) From which country customers are mostly visiting?\n",
        "\n",
        "12)Which is the most common channel for booking hotels?\n",
        "\n",
        "13) Which channel is most grequently used for early hotel bookings?\n",
        "\n",
        "**Time-wise analysis**\n",
        "\n",
        "1) Studying reservations made for hotels each month and comparing them depending on lead times\n",
        "\n",
        "2) In which month bookings is highest in hotels?\n",
        "\n",
        "**CORRELATION and Pair-plot**\n",
        "\n",
        "14) What is the correlation between numerical varaibles?\n",
        "\n",
        "15) Analyse a pairwise relationship in a dataset.\n"
      ],
      "metadata": {
        "id": "DpeJGUA3kjGy"
      }
    },
    {
      "cell_type": "markdown",
      "source": [
        "#### **Define Your Business Objective?**"
      ],
      "metadata": {
        "id": "PH-0ReGfmX4f"
      }
    },
    {
      "cell_type": "markdown",
      "source": [
        "* What are the primary business goals for understanding the whole context of a dataset?  \n",
        "* What are the negative developments that are happening to the business and why are they problematic?\n",
        "* Can you offer recommendations for enhancing the company's operations based on the study of the dataset?\n",
        "\n",
        "\n",
        "\n",
        "\n"
      ],
      "metadata": {
        "id": "PhDvGCAqmjP1"
      }
    },
    {
      "cell_type": "markdown",
      "source": [
        "# **General Guidelines** : -  "
      ],
      "metadata": {
        "id": "mDgbUHAGgjLW"
      }
    },
    {
      "cell_type": "markdown",
      "source": [
        "1.   Well-structured, formatted, and commented code is required.\n",
        "2.   Exception Handling, Production Grade Code & Deployment Ready Code will be a plus. Those students will be awarded some additional credits.\n",
        "     \n",
        "     The additional credits will have advantages over other students during Star Student selection.\n",
        "       \n",
        "             [ Note: - Deployment Ready Code is defined as, the whole .ipynb notebook should be executable in one go\n",
        "                       without a single error logged. ]\n",
        "\n",
        "3.   Each and every logic should have proper comments.\n",
        "4. You may add as many number of charts you want. Make Sure for each and every chart the following format should be answered.\n",
        "        \n",
        "\n",
        "```\n",
        "# Chart visualization code\n",
        "```\n",
        "            \n",
        "\n",
        "*   Why did you pick the specific chart?\n",
        "*   What is/are the insight(s) found from the chart?\n",
        "* Will the gained insights help creating a positive business impact?\n",
        "Are there any insights that lead to negative growth? Justify with specific reason.\n",
        "\n",
        "5. You have to create at least 20 logical & meaningful charts having important insights.\n",
        "\n",
        "\n",
        "[ Hints : - Do the Vizualization in  a structured way while following \"UBM\" Rule.\n",
        "\n",
        "U - Univariate Analysis,\n",
        "\n",
        "B - Bivariate Analysis (Numerical - Categorical, Numerical - Numerical, Categorical - Categorical)\n",
        "\n",
        "M - Multivariate Analysis\n",
        " ]\n",
        "\n",
        "\n",
        "\n"
      ],
      "metadata": {
        "id": "ZrxVaUj-hHfC"
      }
    },
    {
      "cell_type": "markdown",
      "source": [
        "# ***Let's Begin !***"
      ],
      "metadata": {
        "id": "O_i_v8NEhb9l"
      }
    },
    {
      "cell_type": "markdown",
      "source": [
        "## ***1. Know Your Data***"
      ],
      "metadata": {
        "id": "HhfV-JJviCcP"
      }
    },
    {
      "cell_type": "markdown",
      "source": [
        "### Import Libraries"
      ],
      "metadata": {
        "id": "Y3lxredqlCYt"
      }
    },
    {
      "cell_type": "code",
      "source": [
        "# Import Libraries\n",
        "import numpy as np\n",
        "import pandas as pd\n",
        "import matplotlib.pyplot as plt\n",
        "import seaborn as sns\n",
        "import matplotlib as mat\n",
        "import plotly.express as px\n",
        "import folium\n",
        "import warnings\n",
        "warnings.filterwarnings(\"ignore\")"
      ],
      "metadata": {
        "id": "M8Vqi-pPk-HR"
      },
      "execution_count": null,
      "outputs": []
    },
    {
      "cell_type": "markdown",
      "source": [
        "### Dataset Loading"
      ],
      "metadata": {
        "id": "3RnN4peoiCZX"
      }
    },
    {
      "cell_type": "code",
      "source": [
        "# Load Dataset\n",
        "from google.colab import drive\n",
        "drive.mount('/content/drive')"
      ],
      "metadata": {
        "id": "4CkvbW_SlZ_R"
      },
      "execution_count": null,
      "outputs": []
    },
    {
      "cell_type": "code",
      "source": [
        "# Read the file\n",
        "hb_df=pd.read_csv('/content/drive/MyDrive/Alma Better/EDA sample data/Hotel Bookings.csv')"
      ],
      "metadata": {
        "id": "yhDxi2ufW-ly"
      },
      "execution_count": null,
      "outputs": []
    },
    {
      "cell_type": "markdown",
      "source": [
        "### Dataset First View"
      ],
      "metadata": {
        "id": "x71ZqKXriCWQ"
      }
    },
    {
      "cell_type": "code",
      "source": [
        "# Dataset First Look\n",
        "hb_df.head()"
      ],
      "metadata": {
        "id": "LWNFOSvLl09H"
      },
      "execution_count": null,
      "outputs": []
    },
    {
      "cell_type": "markdown",
      "source": [
        "### Dataset Rows & Columns count"
      ],
      "metadata": {
        "id": "7hBIi_osiCS2"
      }
    },
    {
      "cell_type": "code",
      "source": [
        "#Dataset Rows and Columns count\n",
        "hb_df.shape\n"
      ],
      "metadata": {
        "id": "Kllu7SJgmLij"
      },
      "execution_count": null,
      "outputs": []
    },
    {
      "cell_type": "code",
      "source": [
        "#Dataset Rows  count\n",
        "print(\"number of rows:\",hb_df.shape[0])"
      ],
      "metadata": {
        "id": "CTX-eFlFg-6o"
      },
      "execution_count": null,
      "outputs": []
    },
    {
      "cell_type": "code",
      "source": [
        "#Dataset Columns count\n",
        "print(\"number of columns:\", hb_df.shape[1])"
      ],
      "metadata": {
        "id": "eIszHi62hqWi"
      },
      "execution_count": null,
      "outputs": []
    },
    {
      "cell_type": "markdown",
      "source": [
        "### Dataset Information"
      ],
      "metadata": {
        "id": "JlHwYmJAmNHm"
      }
    },
    {
      "cell_type": "code",
      "source": [
        "# Dataset Info\n",
        "hb_df.info()"
      ],
      "metadata": {
        "id": "e9hRXRi6meOf"
      },
      "execution_count": null,
      "outputs": []
    },
    {
      "cell_type": "markdown",
      "source": [
        "#### Duplicate Values"
      ],
      "metadata": {
        "id": "35m5QtbWiB9F"
      }
    },
    {
      "cell_type": "markdown",
      "source": [
        "#### Missing Values/Null Values"
      ],
      "metadata": {
        "id": "PoPl-ycgm1ru"
      }
    },
    {
      "cell_type": "code",
      "source": [
        "# Missing Values/Null Values Count\n",
        "hb_df[hb_df.duplicated()]\n"
      ],
      "metadata": {
        "id": "GgHWkxvamxVg"
      },
      "execution_count": null,
      "outputs": []
    },
    {
      "cell_type": "code",
      "source": [
        "# Visualizing the missing values\n",
        "# Missing Values/Null Values Count\n",
        "missing_value_count = hb_df.isnull().sum().sort_values(ascending = False)[:5]\n",
        "missing_value_count =pd.DataFrame(missing_value_count).reset_index() .rename(columns = {'index':'Column',0:'Missing count'})"
      ],
      "metadata": {
        "id": "3q5wnI3om9sJ"
      },
      "execution_count": null,
      "outputs": []
    },
    {
      "cell_type": "code",
      "source": [
        "hb_df.isnull().sum()"
      ],
      "metadata": {
        "id": "tWcLxyBXpaeK"
      },
      "execution_count": null,
      "outputs": []
    },
    {
      "cell_type": "code",
      "source": [
        "plt.figure(figsize = (8,5))\n",
        "sns.barplot(x ='Column',y = 'Missing count',data =missing_value_count ).set(title=\"Missing Values count\")"
      ],
      "metadata": {
        "id": "houxV1KipRRv"
      },
      "execution_count": null,
      "outputs": []
    },
    {
      "cell_type": "markdown",
      "source": [
        "### What did you know about your dataset?"
      ],
      "metadata": {
        "id": "H0kj-8xxnORC"
      }
    },
    {
      "cell_type": "markdown",
      "source": [
        "In the given dataset, there is a variety of data on hotel reservations and cancellations, with an emphasis on two distinct hotel types: city hotels and resort hotels. Customers from various nations who booked their reservations through travel agents or tourism organisations are represented in the dataset. The duration of the client's stay, the month of the booking, and the kind of accommodation that was given to the customer upon arrival are a few of the important factors that have been gathered. The collection also includes details like the date the reservation was made, whether it was made on a weekday or a weekend, and what kind of cuisine the client ordered while they were there.\n",
        "\n",
        "The dataset's emphasis on recurring consumers is especially interesting. By tracking whether a consumer has previously booked with the hotel, it is feasible to investigate trends of customer loyalty and behaviour over time. Another useful data gathered is whether the customer paid a deposit when making their booking, which might provide insight into how committed they were to their plans.\n",
        "\n",
        "The dataset also includes information on the travel agents or tourism agencies that were involved in making the bookings.\n",
        "\n",
        "Overall, the dataset contains a diverse set of characteristics that can be utilised to investigate a wide range of problems about hotel reservations and customer behaviour."
      ],
      "metadata": {
        "id": "gfoNAAC-nUe_"
      }
    },
    {
      "cell_type": "markdown",
      "source": [
        "## ***2. Understanding Your Variables***"
      ],
      "metadata": {
        "id": "nA9Y7ga8ng1Z"
      }
    },
    {
      "cell_type": "code",
      "source": [
        "# Dataset Columns\n",
        "hb_df.columns"
      ],
      "metadata": {
        "id": "j7xfkqrt5Ag5"
      },
      "execution_count": null,
      "outputs": []
    },
    {
      "cell_type": "code",
      "source": [
        "# Dataset Describe\n",
        "hb_df.describe(include='all')"
      ],
      "metadata": {
        "id": "DnOaZdaE5Q5t"
      },
      "execution_count": null,
      "outputs": []
    },
    {
      "cell_type": "markdown",
      "source": [
        "### Variables Description"
      ],
      "metadata": {
        "id": "PBTbrJXOngz2"
      }
    },
    {
      "cell_type": "markdown",
      "source": [
        "The varaibles with their description is as given below\n",
        "\n",
        "*  **Hotel**: The \"hotel\" column in the dataset specifies the two types of those are \"city\" and \"resort\".hotels,\n",
        "\n",
        "*   **Is_canceled**: The \"is_canceled\" column indicates whether a hotel booking was canceled or not. It contains values of 0 for no cancellation and 1 for cancellation.\n",
        "\n",
        "*   **Lead time**: \"Lead time\" is a data column that measures the number of days between the date a hotel reservation is booked and the actual date of arrival. It reflects the time gap between making the reservation and the actual stay.\n",
        "\n",
        "\n",
        "*   **Arrival_date_year**: This column represents the year in which the customer arrived at the hotel. It can be used to identify trends in seasonal or yearly booking of the customer.\n",
        "\n",
        "*   **Arrival_date_month**: This column represents the month in which the customer arrived at the hotel. It can be used to identify trends in monthly booking of the customer.\n",
        "\n",
        "*   **Arrival_date_week_number**: This column represents the week number in which the customer arrived at the hotel. It can be used to identify trends in weekly booking  of the customer.\n",
        "\n",
        "*   **Arrival_date_day_of_month**: This column represents the day of the month in which the customer arrived at the hotel. It can be used to identify trends in daily booking  of the customer.\n",
        "*   **Stays_in_weekend_nights**: This column represents the number of weekend nights  the customer stayed in the hotel. It can be used to analyze the length of weekend stays versus weekday stays.\n",
        "\n",
        "*  **Stays_in_week_nights**: This column represents the number of weeknights\n",
        "the customer stayed in the hotel. It can be used to analyze the length of weekday stays versus weekend stays.\n",
        "\n",
        "\n",
        "*   **Adults**: This column represents the number of adults included in the booking. It can be used to analyze the number of the customers size for bookings.\n",
        "\n",
        "\n",
        "*   **Children**: This column represents the number of children included in the booking. It can be used to analyze the  number of babies  with the booking cusomeres.\n",
        "\n",
        "\n",
        "*   **Babies**: This column represents the number of babies included in the booking. It can be used to analyze the number of babies with the booking cusomeres.\n",
        "\n",
        "*   **Meal**: This column represents the type of meal chosen by the customer. It can be used to analyze the popularity of different meal options and their associated costs.\n",
        "*   **Country**: This column represents the country of origin of the customer. It can be used to analyze witch country customers are makes the more booking.\n",
        "\n",
        "*   **Market_segment**: This column represents the market segment to which the booking belongs (e.g. corporate,direct,group,online TA,Ofline TA/TO ,complementry, etc.). It can be used to analyze the booking of the customers for different market segments.\n",
        "*  **Distribution_channel**: This column represents the distribution channel through which the booking was made (e.g. travel agent, online travel agency, etc.). It can be used to analyze the booking of the customers  for different distribution channels.\n",
        "\n",
        "\n",
        "*   **Is_repeated_guest**: This column indicates whether the customer has made any previous bookings with the hotel. It can be used to analyze the loyalty of customers.\n",
        "*   **Previous_cancellations**: This column represents the number of previous bookings that were cancelled by the customer. It can be used to analyze the reliability of customers.\n",
        "\n",
        "\n",
        "\n",
        "*   **Previous_bookings_not_canceled**: This column represents the number of previous bookings that were not cancelled by the customer. It can be used to analyze the loyalty of customers.\n",
        "\n",
        "*   **Reserved_room_type**: This column represents the room type that was reserved by the customer. It can be used to analyze the popularity of different room types.\n",
        "*   **Assigned_room_type**: This column represents the room type that was assigned to the customer upon arrival. It can be used to analyze the effectiveness of room allocation processes.\n",
        "\n",
        "\n",
        "*   **Booking_changes**: This column represents the number of changes made to the booking by the customer. It can be used to analyze the flexibility of customers and the effectiveness of the booking system.\n",
        "\n",
        "*   **Deposit_type**: This column represents the type of deposit made at the time of booking (e.g. refundable, non-refundable, no deposit). It can be used to analyze the impact of different deposit types on booking customers.\n",
        "*   **Agent**: This column represents the ID of the travel agent who made the booking. It can be used to analyze the effectiveness of different travel agents in generating bookings."
      ],
      "metadata": {
        "id": "aJV4KIxSnxay"
      }
    },
    {
      "cell_type": "markdown",
      "source": [
        "### Check Unique Values for each variable."
      ],
      "metadata": {
        "id": "u3PMJOP6ngxN"
      }
    },
    {
      "cell_type": "code",
      "source": [
        "# Check Unique Values for each variable.\n",
        "for i in hb_df.columns.tolist():\n",
        "  print(\"No. of unique values in \",i,\"is\",hb_df[i].nunique(),\".\")"
      ],
      "metadata": {
        "id": "5ieByYhXOMjz"
      },
      "execution_count": null,
      "outputs": []
    },
    {
      "cell_type": "markdown",
      "source": [
        "## 3. ***Data Wrangling***"
      ],
      "metadata": {
        "id": "dauF4eBmngu3"
      }
    },
    {
      "cell_type": "markdown",
      "source": [
        "### Data Wrangling Code"
      ],
      "metadata": {
        "id": "bKJF3rekwFvQ"
      }
    },
    {
      "cell_type": "code",
      "source": [
        "# Write your code to make your dataset analysis ready.\n",
        "## Create a copy of the current dataset and assigning to df\n",
        "df=hb_df\n"
      ],
      "metadata": {
        "id": "wk-9a2fpoLcV"
      },
      "execution_count": null,
      "outputs": []
    },
    {
      "cell_type": "markdown",
      "source": [
        "**Step 1- Removing duplicate rows**"
      ],
      "metadata": {
        "id": "3w6zIdc6VF5_"
      }
    },
    {
      "cell_type": "code",
      "source": [
        "# Number of rows of duplicate rows\n",
        "df[df.duplicated()].shape"
      ],
      "metadata": {
        "id": "HoT5XliQVYzl"
      },
      "execution_count": null,
      "outputs": []
    },
    {
      "cell_type": "code",
      "source": [
        "# Dropping duplicate values\n",
        "df.drop_duplicates(inplace= True)"
      ],
      "metadata": {
        "id": "uGyTyarlVsq_"
      },
      "execution_count": null,
      "outputs": []
    },
    {
      "cell_type": "code",
      "source": [
        "df.shape"
      ],
      "metadata": {
        "id": "IQ9GCkouV5el"
      },
      "execution_count": null,
      "outputs": []
    },
    {
      "cell_type": "markdown",
      "source": [
        "**Step 2- Handling missing values**"
      ],
      "metadata": {
        "id": "JQGiqKS9WGzk"
      }
    },
    {
      "cell_type": "code",
      "source": [
        "# Missing value & count\n",
        "missing_value_count = hb_df.isnull().sum().sort_values(ascending = False)[:5]\n",
        "missing_value_count"
      ],
      "metadata": {
        "id": "6Kzq1U7OWQi-"
      },
      "execution_count": null,
      "outputs": []
    },
    {
      "cell_type": "markdown",
      "source": [
        "The company and agent columns in the provided data set contain information such as the company and agency numbers. There may be instances where a customer does not book a hotel through an agent or a firm. In that situation, values in these columns can be null. In these columns, null values will be changed to zero"
      ],
      "metadata": {
        "id": "8HFVbW0tWir2"
      }
    },
    {
      "cell_type": "code",
      "source": [
        "df[['company','agent']] = df[['company','agent']].fillna(0)"
      ],
      "metadata": {
        "id": "pwgYvmemWrUD"
      },
      "execution_count": null,
      "outputs": []
    },
    {
      "cell_type": "code",
      "source": [
        "df['children'].unique()"
      ],
      "metadata": {
        "id": "g_AFTVbpWwPw"
      },
      "execution_count": null,
      "outputs": []
    },
    {
      "cell_type": "markdown",
      "source": [
        "It can be observed that there are only 4 rows are missing in the children column and This 'children' column has a value 0 which means no children were present in group of customers. In the given data set there were Missing values is it marked as 'nan' So  the Missing value can be replaced with its mean value"
      ],
      "metadata": {
        "id": "OPAIzH2NW4i-"
      }
    },
    {
      "cell_type": "code",
      "source": [
        "df['children'].fillna(df['children'].mean(), inplace = True)"
      ],
      "metadata": {
        "id": "JWkzXklJXMeQ"
      },
      "execution_count": null,
      "outputs": []
    },
    {
      "cell_type": "markdown",
      "source": [
        "The next column is the 'country' column. It can be seen that there are nearly 452 records missing in this column, This column represents the country of origin of customer. It is a string datatype column. We will replace the missing value with 'others'."
      ],
      "metadata": {
        "id": "K-A22YeSXWEO"
      }
    },
    {
      "cell_type": "code",
      "source": [
        "df['country'].fillna('others', inplace = True)\n"
      ],
      "metadata": {
        "id": "_9vVjHUhX2KF"
      },
      "execution_count": null,
      "outputs": []
    },
    {
      "cell_type": "markdown",
      "source": [
        "In the given Dataset there are 166 rowes where adult or children or babys are equl to ZERO, it seems like there invalid in the data frame records so we are removing the these records"
      ],
      "metadata": {
        "id": "wxhE30qKX71z"
      }
    },
    {
      "cell_type": "code",
      "source": [
        "df[df['adults']+df['babies']+df['children'] == 0].shape"
      ],
      "metadata": {
        "id": "ohPj_d0gYG_P"
      },
      "execution_count": null,
      "outputs": []
    },
    {
      "cell_type": "code",
      "source": [
        "# Dropping the invalid rows from the given data set\n",
        "df.drop(df[df['adults']+df['babies']+df['children'] == 0].index, inplace = True)"
      ],
      "metadata": {
        "id": "ZdqUKKbAYNyB"
      },
      "execution_count": null,
      "outputs": []
    },
    {
      "cell_type": "code",
      "source": [
        "# Checking if all null values are removed\n",
        "df.isnull().sum().sort_values(ascending = False)[:6]"
      ],
      "metadata": {
        "id": "x0w96GzlYbVG"
      },
      "execution_count": null,
      "outputs": []
    },
    {
      "cell_type": "markdown",
      "source": [
        "**Step 3- Converting columns to the appropriate data types**"
      ],
      "metadata": {
        "id": "Ux7AXIG9Yluu"
      }
    },
    {
      "cell_type": "markdown",
      "source": [
        "In the given data set, 3 columns are in float data type but it contains integer data so we will Convert the datatype of 3 columns 'children', 'company', and 'agent' from float to int."
      ],
      "metadata": {
        "id": "qAlUS6fUZiOT"
      }
    },
    {
      "cell_type": "code",
      "source": [
        "df[['children', 'company', 'agent']] = df[['children','company','agent']].astype('int64')"
      ],
      "metadata": {
        "id": "le4q2_DwZ3A6"
      },
      "execution_count": null,
      "outputs": []
    },
    {
      "cell_type": "code",
      "source": [
        "#'reservation_status_date' is object so we will converting datatype of column 'reservation_status_date' to datetime.\n",
        "df['reservation_status_date'] = pd.to_datetime(df['reservation_status_date'], format = '%Y-%m-%d')"
      ],
      "metadata": {
        "id": "xC6Bp1tpZ_iP"
      },
      "execution_count": null,
      "outputs": []
    },
    {
      "cell_type": "markdown",
      "source": [
        "**Step 4- Adding Important columns**\n"
      ],
      "metadata": {
        "id": "MqK-vLbQairr"
      }
    },
    {
      "cell_type": "markdown",
      "source": [
        "We are analyzing the data for bookings. It includes (weeknights, and weekend nights) and the number of people staying for the single booking like (adults, children, and babies)"
      ],
      "metadata": {
        "id": "SCvEir5JbA_m"
      }
    },
    {
      "cell_type": "code",
      "source": [
        "# Adding total staying days in hotels it gives ovrall nightes\n",
        "df['total_stay']= df['stays_in_weekend_nights']+df['stays_in_week_nights']"
      ],
      "metadata": {
        "id": "mNIdHTLnbN2D"
      },
      "execution_count": null,
      "outputs": []
    },
    {
      "cell_type": "code",
      "source": [
        "# Adding total people num as column, i.e. total people num = num of adults + children + babies it gives the totel population\n",
        "df['total_people']=df['adults']+df['children']+df['babies']"
      ],
      "metadata": {
        "id": "TJwjE8PkbpOj"
      },
      "execution_count": null,
      "outputs": []
    },
    {
      "cell_type": "markdown",
      "source": [
        "Checking outliers in dataset"
      ],
      "metadata": {
        "id": "xUPqWxY9cBwH"
      }
    },
    {
      "cell_type": "code",
      "source": [
        "# Adr is the one of most imprortant factore in the hotel industery so we can check length of stay affects the adr.\n",
        "plt.figure(figsize = (8,5))\n",
        "sns.scatterplot(y = 'adr',x = 'total_stay',data = df, color='red')\n",
        "plt.show()"
      ],
      "metadata": {
        "id": "skaQy-5LcGJJ"
      },
      "execution_count": null,
      "outputs": []
    },
    {
      "cell_type": "code",
      "source": [
        "# we observed that ther is an outliar in the adr so we are removing for the better analysis of the data\n",
        "df.drop(df[df['adr']>1000].index,inplace = True)"
      ],
      "metadata": {
        "id": "N_Ell_EScqBe"
      },
      "execution_count": null,
      "outputs": []
    },
    {
      "cell_type": "code",
      "source": [
        "# These means when we are staying longer time we can deal with the customers to finalise\n",
        "plt.figure(figsize = (10,5))\n",
        "sns.scatterplot(y = 'adr',x = 'total_stay',data = df, color= 'red')\n",
        "plt.show()"
      ],
      "metadata": {
        "id": "5QGc_u0sc0Mt"
      },
      "execution_count": null,
      "outputs": []
    },
    {
      "cell_type": "markdown",
      "source": [
        "### What all manipulations have you done and insights you found?"
      ],
      "metadata": {
        "id": "MSa1f5Uengrz"
      }
    },
    {
      "cell_type": "markdown",
      "source": [
        "\n",
        "The given dataset required various data manipulations to improve the accuracy of analysis. Firstly, we needed to remove duplicate values as they can affect the outcome of analysis. Secondly, handling missing values is crucial as it affects the accuracy of analysis. Additionally, we had to convert columns to appropriate data types as some columns had improper data types. Lastly, to enhance the dataset, we added important columns like total people and total stay as there was no particular column for total bookings and stay. Overall, these data manipulations were essential to improve the accuracy and usefulness of the given dataset."
      ],
      "metadata": {
        "id": "LbyXE7I1olp8"
      }
    },
    {
      "cell_type": "markdown",
      "source": [
        "## ***4. Data Vizualization, Storytelling & Experimenting with charts : Understand the relationships between variables***"
      ],
      "metadata": {
        "id": "GF8Ens_Soomf"
      }
    },
    {
      "cell_type": "markdown",
      "source": [
        "Three alternative methods have been used to analyse our data\n",
        "\n",
        "1) Univariate Analysis:\n",
        "Univariate analysis involves the examination and interpretation of a single variable in isolation. Its primary goals will be to characterise, distribute, and look for trends in the data.\n",
        "\n",
        "2)Bivariate Analysis:\n",
        "Bivariate analysis involves the study of the relationship between two variables. The primary purpose of bivariate analysis is to understand whether there is an association, correlation, or dependency between the two variables.\n",
        "\n",
        "3)Multivariate Analysis:\n",
        "Multivariate analysis involves the simultaneous study of three or more variables to understand how they relate to each other and to identify patterns that may not be apparent in bivariate analysis."
      ],
      "metadata": {
        "id": "xuiR5YcBW1W_"
      }
    },
    {
      "cell_type": "markdown",
      "source": [
        "#### Chart - 1"
      ],
      "metadata": {
        "id": "0wOQAZs5pc--"
      }
    },
    {
      "cell_type": "markdown",
      "source": [
        "Which agent makes the most bookings for the customers"
      ],
      "metadata": {
        "id": "XXrtz4G8TGmL"
      }
    },
    {
      "cell_type": "code",
      "source": [
        "# Chart - 1 visualization code\n",
        "df1 = pd.DataFrame(df['agent'].value_counts()).reset_index().rename(columns = {'index':'agent','agent':'booking_count'}).sort_values(by ='booking_count',ascending = False )[:10]\n",
        "df1\n",
        "\n",
        "plt.figure(figsize = (10,6))\n",
        "sns.barplot(x = 'agent',y = 'booking_count',data = df1,order = df1.sort_values('booking_count',ascending = False).agent).set(\n",
        "    title=\"witch agent makes most of the bookings\")\n",
        "plt.show()"
      ],
      "metadata": {
        "id": "7v_ESjsspbW7"
      },
      "execution_count": null,
      "outputs": []
    },
    {
      "cell_type": "markdown",
      "source": [
        "##### 1. Why did you pick the specific chart?"
      ],
      "metadata": {
        "id": "K5QZ13OEpz2H"
      }
    },
    {
      "cell_type": "markdown",
      "source": [
        "As the problem statement is related to categorical column agent So bar chat will be suitable for visualization of the number of bookings concerning each category"
      ],
      "metadata": {
        "id": "XESiWehPqBRc"
      }
    },
    {
      "cell_type": "markdown",
      "source": [
        "##### 2. What is/are the insight(s) found from the chart?"
      ],
      "metadata": {
        "id": "lQ7QKXXCp7Bj"
      }
    },
    {
      "cell_type": "markdown",
      "source": [
        "In the Above data set agent 9 makes the most number of bookings followed by Agent 240 and 0"
      ],
      "metadata": {
        "id": "C_j1G7yiqdRP"
      }
    },
    {
      "cell_type": "markdown",
      "source": [
        "##### 3. Will the gained insights help creating a positive business impact?\n",
        "Are there any insights that lead to negative growth? Justify with specific reason."
      ],
      "metadata": {
        "id": "448CDAPjqfQr"
      }
    },
    {
      "cell_type": "markdown",
      "source": [
        "The use of these agents is unlikely to have a negative impact on the business as they provide valuable assistance to customers when booking hotels."
      ],
      "metadata": {
        "id": "3cspy4FjqxJW"
      }
    },
    {
      "cell_type": "markdown",
      "source": [
        "#### Chart - 2"
      ],
      "metadata": {
        "id": "KSlN3yHqYklG"
      }
    },
    {
      "cell_type": "markdown",
      "source": [
        "Which room types are most demanded and which room types generate high ADR?"
      ],
      "metadata": {
        "id": "XW7JO8s_wKcP"
      }
    },
    {
      "cell_type": "code",
      "source": [
        "# Chart - 2 visualization code\n",
        "fig, axes = plt.subplots(1,2, figsize = (15,7))\n",
        "\n",
        "group_by_room = df.groupby('assigned_room_type')\n",
        "df1['booking_count'] = group_by_room.size()\n",
        "\n",
        "sns.countplot(ax = axes[0], x = df['assigned_room_type'])\n",
        "sns.boxplot(ax = axes[1], x = df['assigned_room_type'], y = df['adr'])\n",
        "plt.show()\n"
      ],
      "metadata": {
        "id": "R4YgtaqtYklH"
      },
      "execution_count": null,
      "outputs": []
    },
    {
      "cell_type": "markdown",
      "source": [
        "##### 1. Why did you pick the specific chart?"
      ],
      "metadata": {
        "id": "t6dVpIINYklI"
      }
    },
    {
      "cell_type": "markdown",
      "source": [
        "As the problem statement is related to the categorical column assigned room type So bar chat will be suitable for visualization of count with respect to each category.\n",
        "Here I have considered a box plot to understand the ADR value with respect to each category of assigned room time with levels of 0,25,50,75 and 100."
      ],
      "metadata": {
        "id": "5aaW0BYyYklI"
      }
    },
    {
      "cell_type": "markdown",
      "source": [
        "##### 2. What is/are the insight(s) found from the chart?"
      ],
      "metadata": {
        "id": "ijmpgYnKYklI"
      }
    },
    {
      "cell_type": "markdown",
      "source": [
        "From the above chart room type A is the most demanded roome followed by D E, BUt coming to ADR G,H are generating the most revenue"
      ],
      "metadata": {
        "id": "PSx9atu2YklI"
      }
    },
    {
      "cell_type": "markdown",
      "source": [
        "##### 3. Will the gained insights help creating a positive business impact?\n",
        "Are there any insights that lead to negative growth? Justify with specific reason."
      ],
      "metadata": {
        "id": "-JiQyfWJYklI"
      }
    },
    {
      "cell_type": "markdown",
      "source": [
        "As Per my Analysis, We can come up will the best deals or offer for the G, and H Rooms or To run the degital campigns or marketing So that customer get attracted."
      ],
      "metadata": {
        "id": "BcBbebzrYklV"
      }
    },
    {
      "cell_type": "markdown",
      "source": [
        "#### Chart - 3"
      ],
      "metadata": {
        "id": "EM7whBJCYoAo"
      }
    },
    {
      "cell_type": "markdown",
      "source": [
        "What is the percentage of bookings in each hotel?"
      ],
      "metadata": {
        "id": "b_sIg9V4b-3N"
      }
    },
    {
      "cell_type": "code",
      "source": [
        "# Chart - 3 visualization code\n",
        "plt.figure(figsize=(8,8))\n",
        "plt.pie(df.hotel.value_counts(), labels=df.hotel.value_counts().index, autopct='%1.2f%%')\n",
        "my_circle = plt.Circle( (0,0), 0.5, color='White')\n",
        "p=plt.gcf()\n",
        "p.gca().add_artist(my_circle)\n",
        "plt.title('Booking percentage', fontsize = 18)\n",
        "plt.show()"
      ],
      "metadata": {
        "id": "t6GMdE67YoAp"
      },
      "execution_count": null,
      "outputs": []
    },
    {
      "cell_type": "markdown",
      "source": [
        "##### 1. Why did you pick the specific chart?"
      ],
      "metadata": {
        "id": "fge-S5ZAYoAp"
      }
    },
    {
      "cell_type": "markdown",
      "source": [
        "As the problem statement is related to categorical column hotels and percentage of booking, So pie chat will be suitable for visualization of booking percentage concerning each category"
      ],
      "metadata": {
        "id": "5dBItgRVYoAp"
      }
    },
    {
      "cell_type": "markdown",
      "source": [
        "##### 2. What is/are the insight(s) found from the chart?"
      ],
      "metadata": {
        "id": "85gYPyotYoAp"
      }
    },
    {
      "cell_type": "markdown",
      "source": [
        "From the pie chart 61% of booking was done by city hotel and the rest of the 39 % of hotels was in Resort Hotel"
      ],
      "metadata": {
        "id": "4jstXR6OYoAp"
      }
    },
    {
      "cell_type": "markdown",
      "source": [
        "##### 3. Will the gained insights help creating a positive business impact?\n",
        "Are there any insights that lead to negative growth? Justify with specific reason."
      ],
      "metadata": {
        "id": "RoGjAbkUYoAp"
      }
    },
    {
      "cell_type": "markdown",
      "source": [
        "It will not create any negative impact here we are only looking at the hotel booking  ratio"
      ],
      "metadata": {
        "id": "zfJ8IqMcYoAp"
      }
    },
    {
      "cell_type": "markdown",
      "source": [
        "#### Chart - 4"
      ],
      "metadata": {
        "id": "4Of9eVA-YrdM"
      }
    },
    {
      "cell_type": "markdown",
      "source": [
        "What is the preferred stay length in each hotel?"
      ],
      "metadata": {
        "id": "wkvrgbEJeA5c"
      }
    },
    {
      "cell_type": "code",
      "source": [
        "# Chart - 4 visualization code\n",
        "not_canceled = df[df['is_canceled'] == 0]\n",
        "s1 = not_canceled[not_canceled['total_stay'] < 15]\n",
        "plt.figure(figsize = (10,5))\n",
        "sns.countplot(x = s1['total_stay'], hue = s1['hotel'])\n",
        "plt.show()"
      ],
      "metadata": {
        "id": "irlUoxc8YrdO"
      },
      "execution_count": null,
      "outputs": []
    },
    {
      "cell_type": "markdown",
      "source": [
        "##### 1. Why did you pick the specific chart?"
      ],
      "metadata": {
        "id": "iky9q4vBYrdO"
      }
    },
    {
      "cell_type": "markdown",
      "source": [
        "As the problem statement is related to categorical column hotels and preferred_stay length count, So bar chat will be suitable for visualization of preferred_stay length concerning each category"
      ],
      "metadata": {
        "id": "aJRCwT6DYrdO"
      }
    },
    {
      "cell_type": "markdown",
      "source": [
        "##### 2. What is/are the insight(s) found from the chart?"
      ],
      "metadata": {
        "id": "F6T5p64dYrdO"
      }
    },
    {
      "cell_type": "markdown",
      "source": [
        "As per the chart, most of the customers are staying in the city hotel 1 day and 3 days, and in resort hotels, customers preferred to stay 1 day and 7 days."
      ],
      "metadata": {
        "id": "Xx8WAJvtYrdO"
      }
    },
    {
      "cell_type": "markdown",
      "source": [
        "##### 3. Will the gained insights help creating a positive business impact?\n",
        "Are there any insights that lead to negative growth? Justify with specific reason."
      ],
      "metadata": {
        "id": "y-Ehk30pYrdP"
      }
    },
    {
      "cell_type": "markdown",
      "source": [
        "As per the analysis for the long stay Resort Hotel is Suitable to convince the customer who is planning to stay around planning 6 to 7 to book the Resort Hotel"
      ],
      "metadata": {
        "id": "jLNxxz7MYrdP"
      }
    },
    {
      "cell_type": "markdown",
      "source": [
        "#### Chart - 5"
      ],
      "metadata": {
        "id": "bamQiAODYuh1"
      }
    },
    {
      "cell_type": "markdown",
      "source": [
        "Which hotel has the highest repeated customers?"
      ],
      "metadata": {
        "id": "FyBvhYRpfULz"
      }
    },
    {
      "cell_type": "code",
      "source": [
        "# Chart - 5 visualization code\n",
        "# Selecting and count of repeated customers bookings\n",
        "repeated_data = df[df['is_repeated_guest'] == 1]\n",
        "repeat_grp = repeated_data.groupby('hotel')\n",
        "A1 = pd.DataFrame(repeat_grp.size()).rename(columns = {0:'total_repeated_guests'})\n"
      ],
      "metadata": {
        "id": "TIJwrbroYuh3"
      },
      "execution_count": null,
      "outputs": []
    },
    {
      "cell_type": "code",
      "source": [
        "# Count total bookings\n",
        "groupby_hotel = df.groupby('hotel')\n",
        "total_booking = groupby_hotel.size()\n",
        "A2 = pd.DataFrame(total_booking).rename(columns = {0: 'total_bookings'})\n",
        "A3 = pd.concat([A1,A2], axis = 1)\n"
      ],
      "metadata": {
        "id": "obSQJHEcZTJB"
      },
      "execution_count": null,
      "outputs": []
    },
    {
      "cell_type": "code",
      "source": [
        "# Calculating thr repeat %\n",
        "A3['repeat_%'] = round((A3['total_repeated_guests']/A3['total_bookings'])*100,2)\n",
        "A3['repeat_%']"
      ],
      "metadata": {
        "id": "1teA5mfdfewH"
      },
      "execution_count": null,
      "outputs": []
    },
    {
      "cell_type": "code",
      "source": [
        "#Plotting the graph\n",
        "plt.figure(figsize = (5,5))\n",
        "sns.barplot(x = A3.index, y = A3['repeat_%'])\n",
        "plt.show()"
      ],
      "metadata": {
        "id": "OHMddBfjfvKR"
      },
      "execution_count": null,
      "outputs": []
    },
    {
      "cell_type": "markdown",
      "source": [
        "##### 1. Why did you pick the specific chart?"
      ],
      "metadata": {
        "id": "QHF8YVU7Yuh3"
      }
    },
    {
      "cell_type": "markdown",
      "source": [
        "As the problem statement is releted to categerical column hotels and repeted customers percentage , So bar chat will be sutable for visualization of repeted customers percentage with respect to each catagory\n"
      ],
      "metadata": {
        "id": "dcxuIMRPYuh3"
      }
    },
    {
      "cell_type": "markdown",
      "source": [
        "##### 2. What is/are the insight(s) found from the chart?"
      ],
      "metadata": {
        "id": "GwzvFGzlYuh3"
      }
    },
    {
      "cell_type": "markdown",
      "source": [
        "From the graph it can be seen that only 3% of customers are from city hotels and 5% are from resort hotels. So we can say that Most of the repeated customers are there in resort hotels.\n"
      ],
      "metadata": {
        "id": "uyqkiB8YYuh3"
      }
    },
    {
      "cell_type": "markdown",
      "source": [
        "##### 3. Will the gained insights help creating a positive business impact?\n",
        "Are there any insights that lead to negative growth? Justify with specific reason."
      ],
      "metadata": {
        "id": "qYpmQ266Yuh3"
      }
    },
    {
      "cell_type": "markdown",
      "source": [
        "My data suggests that returning consumers are crucial to business. The ratio of returning clients will go up, which will be good for company. These clients are dependable and will probably stay with us again rather than go elsewhere."
      ],
      "metadata": {
        "id": "_WtzZ_hCYuh4"
      }
    },
    {
      "cell_type": "markdown",
      "source": [
        "#### Chart - 6"
      ],
      "metadata": {
        "id": "OH-pJp9IphqM"
      }
    },
    {
      "cell_type": "markdown",
      "source": [
        "Which hotel makes more revenue?"
      ],
      "metadata": {
        "id": "Pnh96qlwZRRf"
      }
    },
    {
      "cell_type": "code",
      "source": [
        "# Chart - 6 visualization code\n",
        "groupby_hotel = df.groupby('hotel')\n",
        "df6 = groupby_hotel['adr'].agg(np.mean).reset_index().rename(columns = {'adr':'avg_adr'})\n",
        "df6\n",
        "plt.figure(figsize = (5,5))\n",
        "sns.barplot(x = df6['hotel'], y = df6['avg_adr'],palette=['red', 'green'] )\n",
        "plt.show()"
      ],
      "metadata": {
        "id": "kuRf4wtuphqN"
      },
      "execution_count": null,
      "outputs": []
    },
    {
      "cell_type": "markdown",
      "source": [
        "##### 1. Why did you pick the specific chart?"
      ],
      "metadata": {
        "id": "bbFf2-_FphqN"
      }
    },
    {
      "cell_type": "markdown",
      "source": [
        "As the problem statement is releted to categerical column hotels and avg_adr, So bar chat will be sutable for visualization of avg_adr with respect to each catagory"
      ],
      "metadata": {
        "id": "loh7H2nzphqN"
      }
    },
    {
      "cell_type": "markdown",
      "source": [
        "##### 2. What is/are the insight(s) found from the chart?"
      ],
      "metadata": {
        "id": "_ouA3fa0phqN"
      }
    },
    {
      "cell_type": "markdown",
      "source": [
        "As per the chart, city hotels and resort hotels are generating better revenue but there is a slight difference, city hotels generate a little more than resort hotels.City Hotels are most preferred hotel by guests. Since the bookings are more for City hotel but the revenue difference is not much in between them.This shows that Resort hotels are more expensive as compared to City hotels."
      ],
      "metadata": {
        "id": "VECbqPI7phqN"
      }
    },
    {
      "cell_type": "markdown",
      "source": [
        "##### 3. Will the gained insights help creating a positive business impact?\n",
        "Are there any insights that lead to negative growth? Justify with specific reason."
      ],
      "metadata": {
        "id": "Seke61FWphqN"
      }
    },
    {
      "cell_type": "markdown",
      "source": [
        "The Business Main agenda is Revenue of the hotel. city hotel booking and revenue are better than resort hotel so if we can focues along with resort hotels it will help for the positive impact on Revenue\n"
      ],
      "metadata": {
        "id": "DW4_bGpfphqN"
      }
    },
    {
      "cell_type": "markdown",
      "source": [
        "#### Chart - 7"
      ],
      "metadata": {
        "id": "PIIx-8_IphqN"
      }
    },
    {
      "cell_type": "markdown",
      "source": [
        "Analysis based on Meal"
      ],
      "metadata": {
        "id": "qfuS6yoI8KAN"
      }
    },
    {
      "cell_type": "code",
      "source": [
        "# Chart - 11 visualization code\n",
        "meal_count = df['meal'].value_counts()\n",
        "meal_count"
      ],
      "metadata": {
        "id": "lqAIGUfyphqO"
      },
      "execution_count": null,
      "outputs": []
    },
    {
      "cell_type": "code",
      "source": [
        "#Percentage of meal count\n",
        "percentage_meal_count = df['meal'].value_counts(normalize= True)*100\n",
        "percentage_meal_count"
      ],
      "metadata": {
        "id": "yNfPyDaXkmYb"
      },
      "execution_count": null,
      "outputs": []
    },
    {
      "cell_type": "code",
      "source": [
        "#Visualisation of meal count\n",
        "plt.figure(figsize=(6,6))\n",
        "colors =['pink','yellow','royalblue','brown','skyblue']\n",
        "plt.pie(percentage_meal_count,labels =percentage_meal_count.index , colors = colors, autopct='%.2f%%',textprops={'fontsize': 12})\n",
        "plt.title('PERCENTAGE OF MEAL PREFERENCE',size=18,loc='center')\n",
        "plt.legend(bbox_to_anchor=(0.85, 1), loc='upper left', labels=df['meal'].value_counts().index.tolist())"
      ],
      "metadata": {
        "id": "7Isd8tg69lv6"
      },
      "execution_count": null,
      "outputs": []
    },
    {
      "cell_type": "markdown",
      "source": [],
      "metadata": {
        "id": "MulJRp42lFEW"
      }
    },
    {
      "cell_type": "markdown",
      "source": [
        "##### 1. Why did you pick the specific chart?"
      ],
      "metadata": {
        "id": "t27r6nlMphqO"
      }
    },
    {
      "cell_type": "markdown",
      "source": [
        "As we want to calculate the percentage of the different food types preferred by different customers hence we will use a pie chart."
      ],
      "metadata": {
        "id": "iv6ro40sphqO"
      }
    },
    {
      "cell_type": "markdown",
      "source": [
        "##### 2. What is/are the insight(s) found from the chart?"
      ],
      "metadata": {
        "id": "r2jJGEOYphqO"
      }
    },
    {
      "cell_type": "markdown",
      "source": [
        "From the graph it can be seen that 77% of the people prefer BB which is Bed and Breakfast meal type in both hotels."
      ],
      "metadata": {
        "id": "Po6ZPi4hphqO"
      }
    },
    {
      "cell_type": "markdown",
      "source": [
        "##### 3. Will the gained insights help creating a positive business impact?\n",
        "Are there any insights that lead to negative growth? Justify with specific reason."
      ],
      "metadata": {
        "id": "b0JNsNcRphqO"
      }
    },
    {
      "cell_type": "markdown",
      "source": [
        "Yes,\n",
        " the gained insights help create a positive business impact."
      ],
      "metadata": {
        "id": "xvSq8iUTphqO"
      }
    },
    {
      "cell_type": "markdown",
      "source": [
        "### 8)Analysis for Requirement of car parking space"
      ],
      "metadata": {
        "id": "6Est9BA-pUdo"
      }
    },
    {
      "cell_type": "code",
      "source": [
        "# Chart - 12 visualization code\n",
        "car_parking = df['required_car_parking_spaces'].value_counts()\n",
        "car_parking"
      ],
      "metadata": {
        "id": "vVoKzkQGnvo2"
      },
      "execution_count": null,
      "outputs": []
    },
    {
      "cell_type": "code",
      "source": [
        "car_parking.plot(kind='line',color='brown',linestyle=':',linewidth=5,figsize =(8,6))\n",
        "plt.title('CAR PARKING SPACE ANALYSIS',fontsize =18)\n",
        "plt.ylabel('COUNT',fontsize = 12)\n",
        "plt.xlabel('NUMBER OF PARKING SPACE',fontsize =8)\n",
        "plt.grid(True)\n",
        "plt.show()"
      ],
      "metadata": {
        "id": "DpYWqojeqAO8"
      },
      "execution_count": null,
      "outputs": []
    },
    {
      "cell_type": "markdown",
      "source": [
        "##### 2. What is/are the insight(s) found from the chart?"
      ],
      "metadata": {
        "id": "iJWNCgqbqWnk"
      }
    },
    {
      "cell_type": "markdown",
      "source": [
        "\n",
        "About 80000 people count don't show their concern about car parking space while hotel booking.Most of the customers don't require the car parking spaces"
      ],
      "metadata": {
        "id": "jK2uV_yxqWoC"
      }
    },
    {
      "cell_type": "markdown",
      "source": [
        "##### 3. Will the gained insights help creating a positive business impact?\n",
        "Are there any insights that lead to negative growth? Justify with specific reason."
      ],
      "metadata": {
        "id": "ZH-7SkuwqlVS"
      }
    },
    {
      "cell_type": "markdown",
      "source": [
        "Yes this can help in creating positive business impact. Hotel makers can take advantage of this analysis."
      ],
      "metadata": {
        "id": "0RHDqjKJqyNC"
      }
    },
    {
      "cell_type": "markdown",
      "source": [
        "**BIVARIATE ANALYSIS**"
      ],
      "metadata": {
        "id": "PSSKwakxJGsA"
      }
    },
    {
      "cell_type": "markdown",
      "source": [
        "#### Chart - 8"
      ],
      "metadata": {
        "id": "BZR9WyysphqO"
      }
    },
    {
      "cell_type": "markdown",
      "source": [
        "Which category of customers made the highest bookings"
      ],
      "metadata": {
        "id": "Gvu0HG3hfGc3"
      }
    },
    {
      "cell_type": "code",
      "source": [
        "# Chart - 8 visualization code\n",
        "## We divide the customers into Three Catagares single, coluples,family\n",
        "single   = not_canceled[(not_canceled['adults']==1) & (not_canceled['children']==0) & (not_canceled['babies']==0)]\n",
        "couple   = not_canceled[(not_canceled['adults']==2) & (not_canceled['children']==0) & (not_canceled['babies']==0)]\n",
        "family   = not_canceled[not_canceled['adults'] + not_canceled['children'] + not_canceled['babies'] > 2]\n",
        "\n",
        "reindex = ['January','February','March','April','May','June','July','August','September','October','November','December']\n",
        "fig, ax = plt.subplots(figsize=(12, 12))\n",
        "\n",
        "for type in ['single', 'couple', 'family']:\n",
        "  d1 = eval(type).groupby(['arrival_date_month']).size().reset_index().rename(columns = {0:'arrival_num'})\n",
        "  d1['arrival_date_month'] = pd.Categorical(d1['arrival_date_month'],categories=reindex,ordered=True)\n",
        "  sns.lineplot(data=d1, x= 'arrival_date_month', y='arrival_num', label=type, ax=ax)\n",
        "\n",
        "plt.grid()\n",
        "plt.show()"
      ],
      "metadata": {
        "id": "TdPTWpAVphqO"
      },
      "execution_count": null,
      "outputs": []
    },
    {
      "cell_type": "markdown",
      "source": [
        "##### 1. Why did you pick the specific chart?"
      ],
      "metadata": {
        "id": "jj7wYXLtphqO"
      }
    },
    {
      "cell_type": "markdown",
      "source": [
        "Long-term or short-term fluctuations are tracked across time using line charts. Here, we wish to compare changes for multiple groups during the same time period."
      ],
      "metadata": {
        "id": "Ob8u6rCTphqO"
      }
    },
    {
      "cell_type": "markdown",
      "source": [
        "##### 2. What is/are the insight(s) found from the chart?"
      ],
      "metadata": {
        "id": "eZrbJ2SmphqO"
      }
    },
    {
      "cell_type": "markdown",
      "source": [
        "The highest number of bookings were made by the category of couples in the month of August, and the next majority of bookings were made by families in August."
      ],
      "metadata": {
        "id": "mZtgC_hjphqO"
      }
    },
    {
      "cell_type": "markdown",
      "source": [
        "##### 3. Will the gained insights help creating a positive business impact?\n",
        "Are there any insights that lead to negative growth? Justify with specific reason."
      ],
      "metadata": {
        "id": "rFu4xreNphqO"
      }
    },
    {
      "cell_type": "markdown",
      "source": [
        "From the insight it is found that most bookings were done by couples and families, so it can create a positive impact on the business. we can improve our quality and offers for couples and family so that the percentage of bookings will increase."
      ],
      "metadata": {
        "id": "ey_0qi68phqO"
      }
    },
    {
      "cell_type": "markdown",
      "source": [
        "#### Chart - 9"
      ],
      "metadata": {
        "id": "YJ55k-q6phqO"
      }
    },
    {
      "cell_type": "markdown",
      "source": [
        "Which significant distribution channel has the highest cancellation percentage?"
      ],
      "metadata": {
        "id": "r26-oWzUoerE"
      }
    },
    {
      "cell_type": "code",
      "source": [
        "# Chart - 9 visualization code\n",
        "group_by_dc = df.groupby('distribution_channel')\n",
        "d1 = pd.DataFrame((group_by_dc['is_canceled'].sum()/group_by_dc.size())*100).drop(index = 'Undefined').rename(columns = {0: 'Cancel_%'})\n",
        "plt.figure(figsize = (8,5))\n",
        "sns.barplot(x = d1.index, y = d1['Cancel_%'])\n",
        "plt.show()\n"
      ],
      "metadata": {
        "id": "B2aS4O1ophqO"
      },
      "execution_count": null,
      "outputs": []
    },
    {
      "cell_type": "markdown",
      "source": [
        "##### 1. Why did you pick the specific chart?"
      ],
      "metadata": {
        "id": "gCFgpxoyphqP"
      }
    },
    {
      "cell_type": "markdown",
      "source": [
        "As the problem statement is releted to categerical column distribution_channel and repeted customers cancelation percentage, So bar chat will be sutable for visualization of repeted customers cancelation with respect to each catagory"
      ],
      "metadata": {
        "id": "TVxDimi2phqP"
      }
    },
    {
      "cell_type": "markdown",
      "source": [
        "##### 2. What is/are the insight(s) found from the chart?"
      ],
      "metadata": {
        "id": "OVtJsKN_phqQ"
      }
    },
    {
      "cell_type": "markdown",
      "source": [
        "From the above graph it can be seen that nearly 30% of cancelations are of TA/TO which is highest among all, then GDS and direct"
      ],
      "metadata": {
        "id": "ngGi97qjphqQ"
      }
    },
    {
      "cell_type": "markdown",
      "source": [
        "##### 3. Will the gained insights help creating a positive business impact?\n",
        "Are there any insights that lead to negative growth? Justify with specific reason."
      ],
      "metadata": {
        "id": "lssrdh5qphqQ"
      }
    },
    {
      "cell_type": "markdown",
      "source": [
        "As cancelation percentage is 30 so it can create a negative impact. Hence we need to focus to improve the business"
      ],
      "metadata": {
        "id": "tBpY5ekJphqQ"
      }
    },
    {
      "cell_type": "markdown",
      "source": [
        "#### Chart - 10"
      ],
      "metadata": {
        "id": "U2RJ9gkRphqQ"
      }
    },
    {
      "cell_type": "markdown",
      "source": [
        "From which country Most customers are visiting"
      ],
      "metadata": {
        "id": "OP1TbwkHLtQY"
      }
    },
    {
      "cell_type": "code",
      "source": [
        "# Chart - 10 visualization code\n",
        "country_wise_guests = df[df['is_canceled'] == 0]['country'].value_counts().reset_index()\n",
        "country_wise_guests.columns = ['country', 'No of guests']\n",
        "country_wise_guests\n",
        "\n"
      ],
      "metadata": {
        "id": "GM7a4YP4phqQ"
      },
      "execution_count": null,
      "outputs": []
    },
    {
      "cell_type": "code",
      "source": [
        "basemap = folium.Map()\n",
        "guests_map = px.choropleth(country_wise_guests, locations = country_wise_guests['country'],color = country_wise_guests['No of guests'], hover_name = country_wise_guests['country'])\n",
        "guests_map.show()"
      ],
      "metadata": {
        "id": "Mmb9b9tJx9OI"
      },
      "execution_count": null,
      "outputs": []
    },
    {
      "cell_type": "code",
      "source": [
        "grouped_by_country = df.groupby('country')\n",
        "d1 = pd.DataFrame(grouped_by_country.size()).reset_index().rename(columns = {0:'Count'}).sort_values('Count', ascending = False)[:10]\n",
        "sns.barplot(x = d1['country'], y  = d1['Count'])\n",
        "plt.show()"
      ],
      "metadata": {
        "id": "wt14fjb5yIkS"
      },
      "execution_count": null,
      "outputs": []
    },
    {
      "cell_type": "markdown",
      "source": [
        "##### 1. Why did you pick the specific chart?"
      ],
      "metadata": {
        "id": "1M8mcRywphqQ"
      }
    },
    {
      "cell_type": "markdown",
      "source": [
        "As the problem statement is releted to the categorical column Country and count, hence bar chat will be suitable for visualization of customer count coming from different countries."
      ],
      "metadata": {
        "id": "8agQvks0phqQ"
      }
    },
    {
      "cell_type": "markdown",
      "source": [
        "##### 2. What is/are the insight(s) found from the chart?"
      ],
      "metadata": {
        "id": "tgIPom80phqQ"
      }
    },
    {
      "cell_type": "markdown",
      "source": [
        "Most of the peoples are coming from the Portugal"
      ],
      "metadata": {
        "id": "Qp13pnNzphqQ"
      }
    },
    {
      "cell_type": "markdown",
      "source": [
        "##### 3. Will the gained insights help creating a positive business impact?\n",
        "Are there any insights that lead to negative growth? Justify with specific reason."
      ],
      "metadata": {
        "id": "JMzcOPDDphqR"
      }
    },
    {
      "cell_type": "markdown",
      "source": [
        "No it will not lead to any negative growth. Here we are just visualizing the customer count from different countries"
      ],
      "metadata": {
        "id": "R4Ka1PC2phqR"
      }
    },
    {
      "cell_type": "markdown",
      "source": [
        "#### Chart - 11"
      ],
      "metadata": {
        "id": "x-EpHcCOp1ci"
      }
    },
    {
      "cell_type": "markdown",
      "source": [
        "Which is the most common channel for booking hotels?"
      ],
      "metadata": {
        "id": "q8l9QwLZHJ4R"
      }
    },
    {
      "cell_type": "code",
      "source": [
        "# Chart - 11 visualization code\n",
        "group_by_dc = df.groupby('distribution_channel')\n",
        "d1 = pd.DataFrame(round((group_by_dc.size()/df.shape[0])*100,2)).reset_index().rename(columns = {0: 'Booking_%'})\n",
        "d1\n"
      ],
      "metadata": {
        "id": "mAQTIvtqp1cj"
      },
      "execution_count": null,
      "outputs": []
    },
    {
      "cell_type": "code",
      "source": [
        "d1.groupby(['distribution_channel']).sum().plot(\n",
        "    kind='pie', y='Booking_%', autopct='%1.0f%%', startangle=60)"
      ],
      "metadata": {
        "id": "ULeAm_AHIbxE"
      },
      "execution_count": null,
      "outputs": []
    },
    {
      "cell_type": "markdown",
      "source": [
        "##### 1. Why did you pick the specific chart?"
      ],
      "metadata": {
        "id": "hjz4abE__ljq"
      }
    },
    {
      "cell_type": "markdown",
      "source": [
        "Pie charts are designed to show how each component contributes to the overall distribution channel and can only be utilised if the aggregate of the separate pieces adds up to a relevant whole distribution channel.\n",
        "\n"
      ],
      "metadata": {
        "id": "efdHt8Ds_lj9"
      }
    },
    {
      "cell_type": "markdown",
      "source": [
        "##### 2. What is/are the insight(s) found from the chart?"
      ],
      "metadata": {
        "id": "3ukfdNusAzz7"
      }
    },
    {
      "cell_type": "markdown",
      "source": [
        "\n",
        "*   The above chart shows that Travel Agents and Tour Operators are responsible for around 79% of bookings, while 15% of customers book directly without the help of any third party"
      ],
      "metadata": {
        "id": "FP2sgwd-Avdz"
      }
    },
    {
      "cell_type": "markdown",
      "source": [
        "##### 3. Will the gained insights help creating a positive business impact?\n",
        "Are there any insights that lead to negative growth? Justify with specific reason."
      ],
      "metadata": {
        "id": "J5fZx2BUA92A"
      }
    },
    {
      "cell_type": "markdown",
      "source": [
        "When making bookings, many customers use travel agents or tour operators (TA/TO). As a result, we should focus on this group since it is important to us. The network of tour operators and travel agencies we develop should receive the best prices."
      ],
      "metadata": {
        "id": "kVJHomo0A92S"
      }
    },
    {
      "cell_type": "markdown",
      "source": [
        "#### Chart - 12"
      ],
      "metadata": {
        "id": "n3dbpmDWp1ck"
      }
    },
    {
      "cell_type": "markdown",
      "source": [
        "Which channel is most frequently used for early hotel Bookings?"
      ],
      "metadata": {
        "id": "imONhEzXyEs8"
      }
    },
    {
      "cell_type": "code",
      "source": [
        "# Chart - 12 visualization code\n",
        "group_by_dc = df.groupby('distribution_channel')\n",
        "d2 = pd.DataFrame(round(group_by_dc['lead_time'].median(),2)).reset_index().rename(columns = {'lead_time': 'median_lead_time'})\n",
        "plt.figure(figsize = (7,5))\n",
        "sns.barplot(x = d2['distribution_channel'], y = d2['median_lead_time'])\n",
        "plt.show()"
      ],
      "metadata": {
        "id": "bwevp1tKp1ck"
      },
      "execution_count": null,
      "outputs": []
    },
    {
      "cell_type": "markdown",
      "source": [
        "##### 1. Why did you pick the specific chart?"
      ],
      "metadata": {
        "id": "S3BLZ65oCZOJ"
      }
    },
    {
      "cell_type": "markdown",
      "source": [
        "**Answer Here.**\n",
        "\n",
        "*   As the problem statement is releted to categerical column distribution_channel and repeted customers median lead time of early booking, So bar chat will be sutable for visualization of repeted customers booking lead time  with respect to each catagory\n",
        "\n",
        "\n"
      ],
      "metadata": {
        "id": "CKe52wZcCZOW"
      }
    },
    {
      "cell_type": "markdown",
      "source": [
        "##### 2. What is/are the insight(s) found from the chart?"
      ],
      "metadata": {
        "id": "ZWILFDl5p1ck"
      }
    },
    {
      "cell_type": "markdown",
      "source": [
        "As Per the above chart TA/TO channel are mostly used and early booking hoteles"
      ],
      "metadata": {
        "id": "x-lUsV2mp1ck"
      }
    },
    {
      "cell_type": "markdown",
      "source": [
        "##### 3. Will the gained insights help creating a positive business impact?\n",
        "Are there any insights that lead to negative growth? Justify with specific reason."
      ],
      "metadata": {
        "id": "M7G43BXep1ck"
      }
    },
    {
      "cell_type": "markdown",
      "source": [
        "My data shows that a sizable portion of reservations are made through travel agencies and tour operators. Since customers appear to enjoy using new travel agencies and tour operators, if we focus on them, it could benefit our firm."
      ],
      "metadata": {
        "id": "5wwDJXsLp1cl"
      }
    },
    {
      "cell_type": "markdown",
      "source": [
        "**TIME WISE ANALYSIS**"
      ],
      "metadata": {
        "id": "m8DJ1OvnGFbx"
      }
    },
    {
      "cell_type": "markdown",
      "source": [
        "#### Chart - 1"
      ],
      "metadata": {
        "id": "mH41BO2osOnx"
      }
    },
    {
      "cell_type": "markdown",
      "source": [
        "Studying reservations made for hotels each month and comparing them depending on lead times"
      ],
      "metadata": {
        "id": "RCo93EJxprjQ"
      }
    },
    {
      "cell_type": "code",
      "source": [
        "new_df=df.groupby(['arrival_date_month','hotel'])['lead_time'].mean().astype(int).reset_index()\n",
        "months = ['January', 'February', 'March', 'April', 'May', 'June', 'July', 'August', 'September', 'October', 'November', 'December']\n",
        "# It will take the order of the month list in the df along with values\n",
        "new_df['arrival_date_month']=pd.Categorical(new_df['arrival_date_month'],categories=months,ordered=True)\n",
        "df['arrival_date_month']=pd.Categorical(df['arrival_date_month'],categories=months,ordered=True)\n",
        "#sorting\n",
        "new_df_lead=new_df.sort_values('arrival_date_month')"
      ],
      "metadata": {
        "id": "ryk_vwS-NXj_"
      },
      "execution_count": null,
      "outputs": []
    },
    {
      "cell_type": "code",
      "source": [
        "# set lables\n",
        "fig, axes = plt.subplots(1,2, figsize=(28, 8))\n",
        "\n",
        "ax = sns.lineplot(ax=axes[0], data=new_df_lead, x=new_df['arrival_date_month'], y=new_df['lead_time'],hue=new_df['hotel'],palette=['b','g'])\n",
        "sns.set(rc={'figure.figsize':(10,8)})\n",
        "ax.set_title('Lead time throughout the year',fontsize = 16, fontweight='bold')\n",
        "ax.set_xlabel('Month', fontsize = 14)\n",
        "ax.set_ylabel('Average Lead Time', fontsize = 14)\n",
        "\n",
        "ax = sns.countplot(ax=axes[1], data=df, x=df['arrival_date_month'], hue=df['hotel'],palette=['g','b'])\n",
        "sns.set(rc={'figure.figsize':(10,8)})\n",
        "ax.set_title('Booking in each month',fontsize = 16, fontweight='bold')\n",
        "ax.set_xlabel('Month',fontsize = 14)\n",
        "ax.set_ylabel('Booking count',fontsize = 14)"
      ],
      "metadata": {
        "id": "mPb2MeUZN9on"
      },
      "execution_count": null,
      "outputs": []
    },
    {
      "cell_type": "markdown",
      "source": [
        "##### 1. Why did you pick the specific chart?"
      ],
      "metadata": {
        "id": "cXyj6MQuOf3K"
      }
    },
    {
      "cell_type": "markdown",
      "source": [
        "A line chart is typically used to visualize trends and changes over time or continuous data. hence we used this graph here."
      ],
      "metadata": {
        "id": "rf_C0PCfP0ec"
      }
    },
    {
      "cell_type": "markdown",
      "source": [
        "##### 2. What is/are the insight(s) found from the chart?"
      ],
      "metadata": {
        "id": "pGoEMzfvP8Vn"
      }
    },
    {
      "cell_type": "markdown",
      "source": [
        "From the above graph it can be seen in city hotels there is a peak in lead time from April to July and august to october and the booking is high in August. And In resort hotels we can see the peal in lead time, first in June to auguist and booking is high in August, then july, so we can say people usually book hotel 30-60 days in advance."
      ],
      "metadata": {
        "id": "7FQnIRc9P_XF"
      }
    },
    {
      "cell_type": "markdown",
      "source": [
        "#### Chart - 2"
      ],
      "metadata": {
        "id": "S9TO90DpsaFC"
      }
    },
    {
      "cell_type": "markdown",
      "source": [
        "Highest reservation made in which year"
      ],
      "metadata": {
        "id": "FDHVl-q8qRIJ"
      }
    },
    {
      "cell_type": "code",
      "source": [
        "sns.set(rc={'figure.figsize':(10,8)})\n",
        "sns.set_palette(\"husl\")\n",
        "ax = sns.countplot(x = 'arrival_date_year',hue='hotel', data=df)\n",
        "ax.set_title('Bookings Made in each Year',fontsize = 14, fontweight='bold')\n",
        "ax.set_xlabel('Year',fontsize = 12)\n",
        "ax.set_ylabel('Reservation Count',fontsize = 12)\n",
        "for rect in ax.patches:\n",
        "   ax.text (rect.get_x() + rect.get_width()  / 2,rect.get_height()+ 0.20,rect.get_height(),horizontalalignment='center', fontsize = 15)\n"
      ],
      "metadata": {
        "id": "tIFf64nlqhDj"
      },
      "execution_count": null,
      "outputs": []
    },
    {
      "cell_type": "markdown",
      "source": [
        "##### 1. Why did you pick the specific chart?"
      ],
      "metadata": {
        "id": "8Al0lkXGrGB0"
      }
    },
    {
      "cell_type": "markdown",
      "source": [
        "Bar Chat will be suitable for visualizing the year customers made the highest bookings. Here we are re-showing segments of information hence this specific chart is used."
      ],
      "metadata": {
        "id": "jrnuGK5erGCC"
      }
    },
    {
      "cell_type": "markdown",
      "source": [
        "##### 2. What is/are the insight(s) found from the chart?"
      ],
      "metadata": {
        "id": "t_1sQ3cjrzxk"
      }
    },
    {
      "cell_type": "markdown",
      "source": [
        "It seems that 2016 to be year where the hotel bookings are highest."
      ],
      "metadata": {
        "id": "vsa2O6mQrzx2"
      }
    },
    {
      "cell_type": "markdown",
      "source": [
        "#### Chart - 14 - Correlation Heatmap"
      ],
      "metadata": {
        "id": "NC_X3p0fY2L0"
      }
    },
    {
      "cell_type": "markdown",
      "source": [
        "what is the coorelation betweeen numerical varables?"
      ],
      "metadata": {
        "id": "NsvOLkkHSnfu"
      }
    },
    {
      "cell_type": "code",
      "source": [
        "# Correlation Heatmap visualization code\n",
        "num_df = df[['lead_time','previous_cancellations','previous_bookings_not_canceled','booking_changes','days_in_waiting_list','adr','required_car_parking_spaces','total_of_special_requests','total_stay','total_people']]"
      ],
      "metadata": {
        "id": "xyC9zolEZNRQ"
      },
      "execution_count": null,
      "outputs": []
    },
    {
      "cell_type": "code",
      "source": [
        "corrmat = num_df.corr()\n",
        "f, ax = plt.subplots(figsize=(10, 6))\n",
        "sns.heatmap(corrmat,annot = True,fmt='.2f', annot_kws={'size': 10},  vmax=.8, square=True);"
      ],
      "metadata": {
        "id": "x0V4rOpfybgy"
      },
      "execution_count": null,
      "outputs": []
    },
    {
      "cell_type": "markdown",
      "source": [
        "##### 1. Why did you pick the specific chart?"
      ],
      "metadata": {
        "id": "UV0SzAkaZNRQ"
      }
    },
    {
      "cell_type": "markdown",
      "source": [
        "A correlation heatmap is a graphical tool that shows the correlation between multiple variables as a color-coded matrix, hence using this chart as per our requirement."
      ],
      "metadata": {
        "id": "DVPuT8LYZNRQ"
      }
    },
    {
      "cell_type": "markdown",
      "source": [
        "##### 2. What is/are the insight(s) found from the chart?"
      ],
      "metadata": {
        "id": "YPEH6qLeZNRQ"
      }
    },
    {
      "cell_type": "markdown",
      "source": [
        "*  There is a slight correlation between total stay length and lead time. This could imply that people rarely make plans before their actual arrival for extended hotel stays.\n",
        "* ADR and total_people have a slight correlation, which makes sense given that a higher population density increases revenue and, thus, adr."
      ],
      "metadata": {
        "id": "bfSqtnDqZNRR"
      }
    },
    {
      "cell_type": "markdown",
      "source": [
        "#### Chart - 15 - Pair Plot"
      ],
      "metadata": {
        "id": "q29F0dvdveiT"
      }
    },
    {
      "cell_type": "markdown",
      "source": [
        "Analyse a pairwise relationships in a dataset"
      ],
      "metadata": {
        "id": "i3PmRpUQVC2x"
      }
    },
    {
      "cell_type": "code",
      "source": [
        "# Pair Plot visualization\n",
        "variables =['lead_time', 'stays_in_weekend_nights', 'stays_in_week_nights', 'adults',\n",
        "             'children', 'babies', 'market_segment', 'distribution_channel', 'previous_cancellations',\n",
        "             'previous_bookings_not_canceled', 'deposit_type', 'required_car_parking_spaces',\n",
        "             'reservation_status']"
      ],
      "metadata": {
        "id": "o58-TEIhveiU"
      },
      "execution_count": null,
      "outputs": []
    },
    {
      "cell_type": "code",
      "source": [
        "subset_df = df[variables]"
      ],
      "metadata": {
        "id": "FOLNR2GrASPl"
      },
      "execution_count": null,
      "outputs": []
    },
    {
      "cell_type": "code",
      "source": [
        "subset_df = subset_df.dropna()"
      ],
      "metadata": {
        "id": "63N-7fZhCH18"
      },
      "execution_count": null,
      "outputs": []
    },
    {
      "cell_type": "code",
      "source": [
        "import seaborn as sns\n",
        "import matplotlib.pyplot as plt"
      ],
      "metadata": {
        "id": "Fn8mfsvsCL3X"
      },
      "execution_count": null,
      "outputs": []
    },
    {
      "cell_type": "code",
      "source": [
        "sns.pairplot(subset_df, hue=\"reservation_status\")\n",
        "plt.show()"
      ],
      "metadata": {
        "id": "ZMlYI4sZCyo9"
      },
      "execution_count": null,
      "outputs": []
    },
    {
      "cell_type": "markdown",
      "source": [
        "##### 1. Why did you pick the specific chart?"
      ],
      "metadata": {
        "id": "EXh0U9oCveiU"
      }
    },
    {
      "cell_type": "markdown",
      "source": [
        "Each variable in a pair plot is compared to every other variable in the dataset. This makes it easier to spot correlations, patterns, and interactions between various data.Hence we picked this chart"
      ],
      "metadata": {
        "id": "eMmPjTByveiU"
      }
    },
    {
      "cell_type": "markdown",
      "source": [
        "##### 2. What is/are the insight(s) found from the chart?"
      ],
      "metadata": {
        "id": "22aHeOlLveiV"
      }
    },
    {
      "cell_type": "markdown",
      "source": [
        "\n",
        "*   Number of adults and children slightly affects the booking cancellation rate\n",
        "*   The lead time impacts the booking success.\n",
        "\n",
        "\n"
      ],
      "metadata": {
        "id": "uPQ8RGwHveiV"
      }
    },
    {
      "cell_type": "markdown",
      "source": [
        "## **5. Solution to Business Objective**"
      ],
      "metadata": {
        "id": "JcMwzZxoAimU"
      }
    },
    {
      "cell_type": "markdown",
      "source": [
        "#### What do you suggest the client to achieve Business Objective ?\n",
        "Explain Briefly."
      ],
      "metadata": {
        "id": "8G2x9gOozGDZ"
      }
    },
    {
      "cell_type": "markdown",
      "source": [
        "If the company is doing well, we should focus on improving it even more. However, it is critical to be aware of any unfavourable variables that may have an impact on the business and prioritise fixing them in order to turn the negative aspects into positive ones.\n",
        "\n",
        "1) How to Increase Customer Bookings?\n",
        "\n",
        "Solution: Because many clients book hotels through travel agencies, it is critical to focus on strengthening connections with these agents in order to attract new business. Providing customers with the greatest bargains and incentives may aid in increasing bookings.\n",
        "\n",
        "2) How may the cancellation rate be reduced?\n",
        "\n",
        "Solution: In order to maintain a positive business, it is essential to focus on lowering the amount of cancellations. One approach could be to develop policies that provide clients with refunds based on their cancellation and booking duration.\n",
        "\n",
        "3) Is it an appropriate way to raise hotel booking prices?\n",
        "\n",
        "Solution: Yes, in some situations, increasing hotel costs during peak seasons when demand is high might be helpful. Raising hotel rates in major cities, for example, during the popular month of August, could help produce more money.\n",
        "\n",
        "4) Global Distribution System for hotel reservations in resorts?\n",
        "\n",
        "Solution: Global Distribution Network There are no bookings for the resort hotel; focusing on these resort hotels through GDS would be beneficial for the good impact.\n",
        "\n",
        "5) How can long-stay city hotel consumers be converted to resort hotel customers?\n",
        "\n",
        "Solution: While many long-term guests prefer city hotels, resort hotels can produce greater revenue. To entice these clients to book resort hotels, agents might be offered greater prices and incentives to persuade them to switch."
      ],
      "metadata": {
        "id": "pASKb0qOza21"
      }
    },
    {
      "cell_type": "markdown",
      "source": [
        "# **Conclusion**"
      ],
      "metadata": {
        "id": "gCX9965dhzqZ"
      }
    },
    {
      "cell_type": "markdown",
      "source": [
        "1) Because the majority of consumers favour A-rooms, hotels should expand their number to generate more money.\n",
        "\n",
        "2)Transient consumers cancel more frequently, but when people book in groups, there are less cancellations; so, hotels should provide some deals to reduce cancellations.\n",
        "\n",
        "3) Since May to August sees the highest number of reservations, hotels should entice guests with appealing deals to boost their off-season bookings.\n",
        "\n",
        "4) Because fewer hotel guests are returning, management should use guest feedback to enhance the hotel's amenities and boost the number of returning visitors.\n",
        "\n",
        "5)The countries that send us the most visitors—Portugal, France, and the UK—are also the ones that bring in the most money.Portugal is the country that generates the most bookings and income.  To increase sales, marketing teams should focus on these nations.\n",
        "\n",
        "6)The most frequent type of visitor is a couple, and fulfilling their demands can boost revenue. More specific demands are typically made by larger groups of people.\n",
        "\n",
        "7) Longer stays (more than 15 days) typically yield better offers due to lower adr. Booking cancellations are not severely impacted by not getting the same reserved room, longer lead times, or waiting periods, but a different room allotment can reduce the adr.\n",
        "\n",
        "8) When booking hotels, a large group nearly 94% does not need parking spaces.\n",
        "\n",
        "9)Most guests stay for less than 5 days in a hotel, while the Resort hotel is preferred for longer stays."
      ],
      "metadata": {
        "id": "Fjb1IsQkh3yE"
      }
    },
    {
      "cell_type": "markdown",
      "source": [
        "### ***Hurrah! You have successfully completed your EDA Capstone Project !!!***"
      ],
      "metadata": {
        "id": "gIfDvo9L0UH2"
      }
    }
  ]
}